{
 "cells": [
  {
   "cell_type": "markdown",
   "id": "339be07b",
   "metadata": {},
   "source": [
    "# `Can we load your data file(s)?` | *ers-transit Data Checkpoint:* fitted planetary features 🪐⧳\n",
    "*11 March 2022*"
   ]
  },
  {
   "cell_type": "markdown",
   "id": "81d69ad1",
   "metadata": {},
   "source": [
    "This notebook aims to serve as a quick way to visualize and evaluate results produced for the [Spring 2022 Data Challenge with Simulated Data](https://ers-transit.github.io/data-challenge-with-simulated-data.html) for the [Webb Transiting Exoplanet Community Early Release Science Program](https://ers-transit.github.io/index.html)."
   ]
  },
  {
   "cell_type": "markdown",
   "id": "c49269cc",
   "metadata": {},
   "source": [
    "*🪐🤩❤️ This test snippet notebook designed to check whether we will be able to read your data files easily.  At the 21-23 March 2022 meeting, we will make a longer notebook available, which will contain standardized visualizations and quantitative metrics. We'll probably want to continue improving it throughout the meeting!🪐🤩❤️*"
   ]
  },
  {
   "cell_type": "markdown",
   "id": "0e47dde0",
   "metadata": {},
   "source": [
    "# 🧑‍💻 Load the Data\n",
    "\n",
    "Can we load in your file of **fitted planetary features**? This file should be plain text, and it should contain the following columns 3-4 columns.\n",
    "+ `wavelength` should represent the central wavelength of the wavelength bin. Alternatively, there could be two columns labeled `wavelength_lower` and `wavelength_upper` to represent the lower and upper bounds of each wavelength bin. The units should be in microns.\n",
    "+ `depth` should be the transit depth $(R_p/R_\\star)^2$ or the eclipse depth ($F_p/F_\\star$). This quantity should be unitless; for example, a transit depth of 1% should be written as `0.01`.\n",
    "+ `uncertainty` should be the uncertainty on the depth. This quantity should have the same units as depth (so also be unitless).\n",
    "\n"
   ]
  },
  {
   "cell_type": "code",
   "execution_count": null,
   "id": "647191ce",
   "metadata": {},
   "outputs": [],
   "source": [
    "from utils import *"
   ]
  },
  {
   "cell_type": "markdown",
   "id": "9274131b",
   "metadata": {},
   "source": [
    "Now, let's try to read in your file! To do so...\n",
    "1. Change the `file_path` below to point toward your data file.\n",
    "2. Run the cell and hope it works!"
   ]
  },
  {
   "cell_type": "code",
   "execution_count": null,
   "id": "7fb3e211",
   "metadata": {},
   "outputs": [],
   "source": [
    "file_path = 'features-with-centers.txt'\n",
    "data = load_feature_file(file_path)\n",
    "plot_features(data)"
   ]
  },
  {
   "cell_type": "markdown",
   "id": "fff80621",
   "metadata": {},
   "source": [
    "## Did it work?\n",
    "\n",
    "You should have seen a plot appear, with error bars in the vertical direction expressing the depth uncertainties and error bars in the horizontal direction expressing the width of the wavelength bins."
   ]
  }
 ],
 "metadata": {
  "kernelspec": {
   "display_name": "Python 3 (ipykernel)",
   "language": "python",
   "name": "python3"
  },
  "language_info": {
   "codemirror_mode": {
    "name": "ipython",
    "version": 3
   },
   "file_extension": ".py",
   "mimetype": "text/x-python",
   "name": "python",
   "nbconvert_exporter": "python",
   "pygments_lexer": "ipython3",
   "version": "3.9.5"
  }
 },
 "nbformat": 4,
 "nbformat_minor": 5
}
