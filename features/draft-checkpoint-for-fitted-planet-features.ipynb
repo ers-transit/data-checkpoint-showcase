{
 "cells": [
  {
   "cell_type": "markdown",
   "id": "6c274797",
   "metadata": {},
   "source": [
    "# *ers-transit Data Checkpoint:* fitted planetary features 🪐⧳  (WASP-39b transit edition)\n",
    "*21 March 2022*\n",
    "\n",
    "Contributors:\n",
    "- Zach Berta-Thompson\n",
    "- Catriona Murray\n",
    "- Patricio Cubillos"
   ]
  },
  {
   "cell_type": "markdown",
   "id": "4f40f1a5",
   "metadata": {},
   "source": [
    "This notebook aims to serve as a quick way to visualize and evaluate results produced for the [Spring 2022 Data Challenge with Simulated Data](https://ers-transit.github.io/data-challenge-with-simulated-data.html) for the [Webb Transiting Exoplanet Community Early Release Science Program](https://ers-transit.github.io/index.html)."
   ]
  },
  {
   "cell_type": "markdown",
   "id": "7c4808cc",
   "metadata": {},
   "source": [
    "## 🧑‍💻 Load the Data\n",
    "\n",
    "Let's load a file of **fitted planetary features** This file should be plain text, and it should contain the following 3-4 columns.\n",
    "+ `wavelength` should represent the central wavelength of the wavelength bin. Alternatively, there could be two columns labeled `wavelength_lower` and `wavelength_upper` to represent the lower and upper bounds of each wavelength bin. The units should be in microns.\n",
    "+ `depth` should be the transit depth $(R_p/R_\\star)^2$ or the eclipse depth ($F_p/F_\\star$). This quantity should be unitless; for example, a transit depth of 1% should be written as `0.01`.\n",
    "+ `uncertainty` should be the uncertainty on the depth. This quantity should have the same units as depth (so also be unitless).\n",
    "\n"
   ]
  },
  {
   "cell_type": "code",
   "execution_count": null,
   "id": "961afed4",
   "metadata": {},
   "outputs": [],
   "source": [
    "from utils import *"
   ]
  },
  {
   "cell_type": "code",
   "execution_count": null,
   "id": "947f4f26",
   "metadata": {},
   "outputs": [],
   "source": [
    "data = load_data('NIRCam/Murray_NIRCam_transmission3.txt')"
   ]
  },
  {
   "cell_type": "code",
   "execution_count": null,
   "id": "930c1a06",
   "metadata": {},
   "outputs": [],
   "source": [
    "data.table"
   ]
  },
  {
   "cell_type": "markdown",
   "id": "b863c86c",
   "metadata": {},
   "source": [
    "## 📊 Compare Data and Model\n",
    "Now, let's make plot comparing that transmission spectrum to the associated injected \n",
    "model."
   ]
  },
  {
   "cell_type": "code",
   "execution_count": null,
   "id": "a6dd5c26",
   "metadata": {},
   "outputs": [],
   "source": [
    "from injected import *"
   ]
  },
  {
   "cell_type": "code",
   "execution_count": null,
   "id": "61a75d5d",
   "metadata": {},
   "outputs": [],
   "source": [
    "model = models['NIRCam']\n",
    "fig,ax = plt.subplots(figsize=(8,4), dpi=300)\n",
    "\n",
    "model.plot(ax=ax)\n",
    "data.plot(ax=ax)\n",
    "plt.xlim(2.3,4.2)\n",
    "plt.ylim(0.016,0.028);"
   ]
  },
  {
   "cell_type": "markdown",
   "id": "bc2d623c",
   "metadata": {},
   "source": [
    "## 🎨 Plot Everything\n",
    "Now, let's make plots that compare lots of different folks' submitted features to the injected transmission signal."
   ]
  },
  {
   "cell_type": "code",
   "execution_count": null,
   "id": "7327687b",
   "metadata": {},
   "outputs": [],
   "source": [
    "for instrument in ['NIRCam', 'NIRSpec']:\n",
    "    for with_data in ['without', 'with']:\n",
    "        fig,ax = plt.subplots(figsize=(10,4), dpi=300, facecolor='white')\n",
    "\n",
    "        # plot the model underneath all the user-submitted data\n",
    "        models[instrument].plot(ax=ax)\n",
    "\n",
    "        if with_data == 'with':\n",
    "            # import all the participant data\n",
    "            all_dfiles = glob.glob(f\"{instrument}/*\")\n",
    "            print(f\"List of Submitted Files for {instrument}:\\n\",\"\\n \".join([d.split(\"/\")[-1] for d in all_dfiles]))\n",
    "\n",
    "            for d, abc in zip(all_dfiles, 'ABCDEFGHIJK'):\n",
    "\n",
    "                # load each user's data\n",
    "                data = load_data(d)\n",
    "\n",
    "                # plot each user's data\n",
    "                data.plot(ax=ax, label=abc)\n",
    "\n",
    "        plt.ylim(0.016,0.028)\n",
    "        plt.legend(frameon=False,bbox_to_anchor=(1,1), loc='upper left')\n",
    "        plt.tight_layout();\n",
    "        \n",
    "        plt.savefig(f'WASP39b-model-{instrument}-{with_data}-data.png')"
   ]
  },
  {
   "cell_type": "markdown",
   "id": "614dfd6d",
   "metadata": {},
   "source": [
    "## Things to add:\n",
    "- bin model to match data bins\n",
    "- $\\chi^2$ of real model, with no offset\n",
    "- $\\chi^2$ of real model, allowing offset\n",
    "- $\\chi^2$ of a flat line, allowing offset\n",
    "- flipbook of multiple results flashing against same model\n",
    "- ..."
   ]
  }
 ],
 "metadata": {
  "kernelspec": {
   "display_name": "Python 3 (ipykernel)",
   "language": "python",
   "name": "python3"
  },
  "language_info": {
   "codemirror_mode": {
    "name": "ipython",
    "version": 3
   },
   "file_extension": ".py",
   "mimetype": "text/x-python",
   "name": "python",
   "nbconvert_exporter": "python",
   "pygments_lexer": "ipython3",
   "version": "3.9.5"
  }
 },
 "nbformat": 4,
 "nbformat_minor": 5
}
