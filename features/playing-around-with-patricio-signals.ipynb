{
 "cells": [
  {
   "cell_type": "code",
   "execution_count": null,
   "id": "e66f31fe",
   "metadata": {},
   "outputs": [],
   "source": [
    "from chromatic import *\n",
    "import pickle"
   ]
  },
  {
   "cell_type": "markdown",
   "id": "983d7e3b",
   "metadata": {},
   "source": [
    "Let's load in Patricio's file of injected signals."
   ]
  },
  {
   "cell_type": "code",
   "execution_count": null,
   "id": "25c863fc",
   "metadata": {},
   "outputs": [],
   "source": [
    "x = pickle.load(open('data_challenge_spectra_v01.pickle', 'rb'))\n",
    "x.keys()"
   ]
  },
  {
   "cell_type": "code",
   "execution_count": null,
   "id": "46f5af6b",
   "metadata": {},
   "outputs": [],
   "source": [
    "x['units']"
   ]
  },
  {
   "cell_type": "markdown",
   "id": "0c836ef2",
   "metadata": {},
   "source": [
    "Let's look at the basic planet parameters."
   ]
  },
  {
   "cell_type": "code",
   "execution_count": null,
   "id": "17046c14",
   "metadata": {},
   "outputs": [],
   "source": [
    "x['NGTS10b_parameters']"
   ]
  },
  {
   "cell_type": "code",
   "execution_count": null,
   "id": "b6afcc8d",
   "metadata": {},
   "outputs": [],
   "source": [
    "x['WASP39b_parameters']"
   ]
  },
  {
   "cell_type": "markdown",
   "id": "879cea8f",
   "metadata": {},
   "source": [
    "Now, what's included for each instrument?"
   ]
  },
  {
   "cell_type": "code",
   "execution_count": null,
   "id": "52ac7b36",
   "metadata": {},
   "outputs": [],
   "source": [
    "def summarize_instrument(d):\n",
    "    for x in d:\n",
    "        print(f'{x} = {np.shape(d[x])}')"
   ]
  },
  {
   "cell_type": "code",
   "execution_count": null,
   "id": "395e8c7f",
   "metadata": {},
   "outputs": [],
   "source": [
    "summarize_instrument(x['NGTS10b_MIRI'])"
   ]
  },
  {
   "cell_type": "code",
   "execution_count": null,
   "id": "5c5244c3",
   "metadata": {},
   "outputs": [],
   "source": [
    "summarize_instrument(x['WASP39b_NIRCam'])"
   ]
  },
  {
   "cell_type": "code",
   "execution_count": null,
   "id": "d790e31b",
   "metadata": {},
   "outputs": [],
   "source": [
    "summarize_instrument(x['WASP39b_NIRSpec'])"
   ]
  },
  {
   "cell_type": "code",
   "execution_count": null,
   "id": "9bace5ad",
   "metadata": {},
   "outputs": [],
   "source": [
    "summarize_instrument(x['WASP39b_NIRISS'])"
   ]
  },
  {
   "cell_type": "markdown",
   "id": "3dbce6d1",
   "metadata": {},
   "source": [
    "At this point, we could probably directly start making some plots with the models, compared to data. However, for thinking about the future, it'd be nice to define some objects to collect handy tools."
   ]
  },
  {
   "cell_type": "code",
   "execution_count": null,
   "id": "e0ff3027",
   "metadata": {},
   "outputs": [],
   "source": [
    "class PlanetarySpectrum:\n",
    "    @property\n",
    "    def wavelength(self):\n",
    "        return self.table['wavelength'].quantity\n",
    "\n",
    "    @property\n",
    "    def depth(self):\n",
    "        return self.table['depth'].quantity\n",
    "\n",
    "    @property\n",
    "    def uncertainty(self):\n",
    "        return self.table['uncertainty'].quantity\n",
    "    \n",
    "    def __init__(self, table=None, label=None):\n",
    "        '''\n",
    "        Initialize planetary spectrum object.\n",
    "\n",
    "        Parameters\n",
    "        ----------\n",
    "        table : astropy.table.Table\n",
    "            A table of depths (or other wavelength-dependent features).\n",
    "            It should contain at least:\n",
    "                + `wavelength` should represent the central wavelength of the \n",
    "                   wavelength bin. Alternatively, there could be two columns \n",
    "                   labeled `wavelength_lower` and `wavelength_upper` to represent \n",
    "                   the lower and upper bounds of each wavelength bin. The units \n",
    "                   should be in microns.\n",
    "                + `depth` should be the transit depth $(R_p/R_\\star)^2$ or the \n",
    "                   eclipse depth ($F_p/F_\\star$). This quantity should be unitless; \n",
    "                   for example, a transit depth of 1% should be written as `0.01`.\n",
    "                + `uncertainty` should be the uncertainty on the depth (if this \n",
    "                   is data). This quantity should have the same units as depth \n",
    "                   (so also be unitless).\n",
    "             Planet parameters can/should be included as `meta` in this \n",
    "             initializing astropy table.\n",
    "         label : str\n",
    "             A string labeling this planet spectrum. It might appear in the \n",
    "             the display name for the object, plot legends, filenames, ...             \n",
    "         '''\n",
    "\n",
    "        # store the original data inputs\n",
    "        self.table = Table(table)\n",
    "\n",
    "        # store additional information that might be handy\n",
    "        self.label = label        \n",
    "        \n",
    "        # make sure the data format works\n",
    "        self._validate_data()\n",
    "\n",
    "\n",
    "    def _validate_data(self):\n",
    "        '''\n",
    "        Make sure the data table has the right format.\n",
    "        '''\n",
    "        \n",
    "        # validate each core component\n",
    "        self._validate_wavelengths()\n",
    "        self._validate_depths()\n",
    "        self._validate_uncertainties()\n",
    "        \n",
    "    def _validate_wavelengths(self):\n",
    "        '''\n",
    "        Make sure wavelengths are usable.\n",
    "        '''\n",
    "            \n",
    "        # set centers from edges, if necessary\n",
    "        if \"wavelength\" not in self.table.columns:\n",
    "            self.table[\"wavelength\"] = 0.5 * (self.table[\"wavelength_lower\"] + self.table[\"wavelength_upper\"])\n",
    "\n",
    "        # set edges from centers, if necessary\n",
    "        if (\"wavelength_lower\" not in self.table.columns) and (\"wavelength_upper\" not in self.table.columns):\n",
    "            bin_widths = np.gradient(self.table[\"wavelength\"])\n",
    "            self.table[\"wavelength_lower\"] = self.table[\"wavelength\"] - bin_widths / 2\n",
    "            self.table[\"wavelength_upper\"] = self.table[\"wavelength\"] + bin_widths / 2    \n",
    "\n",
    "        # make sure the units are good\n",
    "        for k in ['wavelength', 'wavelength_lower', 'wavelength_upper']:\n",
    "            try:\n",
    "                self.table[k] = self.table[k].to(u.micron)\n",
    "                print(f'units worked for {k}')\n",
    "            except (AttributeError, u.UnitConversionError):\n",
    "                self.table[k] = self.table[k]*u.micron\n",
    "                print(f'units needed to be fudged for {k}')\n",
    "                warnings.warn(f'🌈 Assuming units for {k} are micron.')\n",
    "                    \n",
    "        assert('wavelength' in self.table.columns)\n",
    "\n",
    "    def _validate_depths(self):\n",
    "        '''\n",
    "        Make sure depths are usable.\n",
    "        '''        \n",
    "        if np.all(depth > 1):\n",
    "            messages = '''\n",
    "            🪐 All depths are >1, implying the planet is \n",
    "            bigger than the star. Depths, should be unitless,\n",
    "            so a 1% transit should have a depth of 0.01.\n",
    "            '''\n",
    "            warnings.warn(message)\n",
    "  \n",
    "    def _validate_uncertainties(self):\n",
    "        '''\n",
    "        Make sure uncertainties are usable.\n",
    "        '''        \n",
    "        pass\n",
    "            \n",
    "    def __repr__(self):\n",
    "        if 'uncertainty' in self.table.columns:\n",
    "            extra = ' with uncertainties!'\n",
    "        else:\n",
    "            extra = ''\n",
    "        return f'<🪐PlanetarySpectrum({len(self.wavelength)}w{extra})>'\n"
   ]
  },
  {
   "cell_type": "code",
   "execution_count": null,
   "id": "4aca86c4",
   "metadata": {},
   "outputs": [],
   "source": [
    "class PlanetarySpectrumModel(PlanetarySpectrum):\n",
    "    \n",
    "    def plot(self, ax=None, **kw):\n",
    "        '''\n",
    "        Plot the model.\n",
    "        \n",
    "        Parameters\n",
    "        ----------\n",
    "        ax : matplotlib.axes._subplots.AxesSubplot\n",
    "            The axes into which the plot should be drawn.\n",
    "        kw : dict\n",
    "            Extra keywords will be passed along to `plt.plot`\n",
    "        '''\n",
    "        if ax is None:\n",
    "            plt.figure(figsize=(8, 3), dpi=300)\n",
    "            ax = plt.gca()\n",
    "        else:\n",
    "            plt.sca(ax)\n",
    "            \n",
    "        plot_kw = dict(alpha=0.5, linewidth=2, label=self.label)\n",
    "        plot_kw.update(**kw)\n",
    "        plt.plot(self.table['wavelength'], self.table['depth'], **plot_kw)\n",
    "        plt.xlabel(\"Wavelength (micron)\")\n",
    "        plt.ylabel(\"Depth (unitless)\")\n",
    "        return ax"
   ]
  },
  {
   "cell_type": "code",
   "execution_count": null,
   "id": "adcacd6e",
   "metadata": {},
   "outputs": [],
   "source": [
    "class PlanetarySpectrumData(PlanetarySpectrum):\n",
    "    \n",
    "    def plot(self, ax=None, **kw):\n",
    "        \"\"\"\n",
    "        Plot some planetary features.\n",
    "\n",
    "        Parameters\n",
    "        ----------\n",
    "        ax : matplotlib.axes._subplots.AxesSubplot\n",
    "            The axes into which the plot should be drawn.\n",
    "        \"\"\"\n",
    "\n",
    "        lower = table[\"wavelength\"] - table[\"wavelength_lower\"]\n",
    "        upper = table[\"wavelength_upper\"] - table[\"wavelength\"]\n",
    "\n",
    "        errorkw = dict(marker=\"o\", linewidth=0, elinewidth=1, label=self.label)\n",
    "        errorkw.update(**kw)\n",
    "\n",
    "        if ax is None:\n",
    "            plt.figure(figsize=(8, 3), dpi=300)\n",
    "            ax = plt.gca()\n",
    "        else:\n",
    "            plt.sca(ax)\n",
    "        plt.errorbar(\n",
    "            self.table[\"wavelength\"],\n",
    "            self.table[\"depth\"],\n",
    "            yerr=self.table[\"uncertainty\"],\n",
    "            xerr=[lower, upper],\n",
    "            **errorkw,\n",
    "        )\n",
    "        plt.xlabel(\"Wavelength (micron)\")\n",
    "        plt.ylabel(\"Depth (unitless)\")\n",
    "        return ax"
   ]
  },
  {
   "cell_type": "code",
   "execution_count": null,
   "id": "a4878f5c",
   "metadata": {},
   "outputs": [],
   "source": [
    "# lets load a model\n",
    "planet = x['WASP39b_NIRSpec']\n",
    "planet_params = x['WASP39b_parameters']\n",
    "\n",
    "wavelength = planet['wl']\n",
    "depth = planet['transmission']\n",
    "table = Table(dict(wavelength=planet['wl'], depth=planet['transmission']), meta=planet_params)\n",
    "\n",
    "model = PlanetarySpectrumModel(table=table, label='injected model')"
   ]
  },
  {
   "cell_type": "code",
   "execution_count": null,
   "id": "036b4a39",
   "metadata": {},
   "outputs": [],
   "source": [
    "from utils import load_feature_file, write_example_file\n",
    "\n",
    "write_example_file('some-test-features.txt')\n",
    "table = load_feature_file('some-test-features.txt')\n",
    "data = PlanetarySpectrumData(table, label='some nonsense data')"
   ]
  },
  {
   "cell_type": "code",
   "execution_count": null,
   "id": "5c08e276",
   "metadata": {},
   "outputs": [],
   "source": [
    "ax = model.plot()\n",
    "data.plot(ax=ax)\n",
    "plt.legend(frameon=False);"
   ]
  }
 ],
 "metadata": {
  "kernelspec": {
   "display_name": "Python 3 (ipykernel)",
   "language": "python",
   "name": "python3"
  },
  "language_info": {
   "codemirror_mode": {
    "name": "ipython",
    "version": 3
   },
   "file_extension": ".py",
   "mimetype": "text/x-python",
   "name": "python",
   "nbconvert_exporter": "python",
   "pygments_lexer": "ipython3",
   "version": "3.9.5"
  }
 },
 "nbformat": 4,
 "nbformat_minor": 5
}
